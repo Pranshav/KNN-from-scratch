{
  "nbformat": 4,
  "nbformat_minor": 0,
  "metadata": {
    "colab": {
      "name": "km.ipynb",
      "provenance": [],
      "authorship_tag": "ABX9TyP8znmILNus9bEMCtHZ+YeW"
    },
    "kernelspec": {
      "name": "python3",
      "display_name": "Python 3"
    }
  },
  "cells": [
    {
      "cell_type": "markdown",
      "metadata": {
        "id": "7uyL68Z-fonv",
        "colab_type": "text"
      },
      "source": [
        "KNN impementation from scratch"
      ]
    },
    {
      "cell_type": "code",
      "metadata": {
        "id": "zwnhzVyUeIZH",
        "colab_type": "code",
        "colab": {}
      },
      "source": [
        "def train(x, y):\n",
        "    return\n",
        "\n",
        "def predict_one(xt, yt, xs, k):\n",
        "    dist = []\n",
        "    for i in range(len(xt)):\n",
        "        dist1 = ((xt[i, :] - xs)**2).sum()\n",
        "        dist.append([dist1, i])\n",
        "    dist = sorted(dist)\n",
        "    targets = []\n",
        "    for i in range(k):\n",
        "        index_values = dist[i][1]\n",
        "        targets.append(yt[index_values])\n",
        "    return Counter(targets).most_common(1)[0][0]\n",
        "\n",
        "def predict(xt, yt, xs, k):\n",
        "    predictions = []\n",
        "    for xs in xs:\n",
        "        predictions.append(predict_one(xt, yt, xs, k))\n",
        "    return predictions"
      ],
      "execution_count": 11,
      "outputs": []
    },
    {
      "cell_type": "markdown",
      "metadata": {
        "id": "5nXyjYhyf3nW",
        "colab_type": "text"
      },
      "source": [
        "iris dataset"
      ]
    },
    {
      "cell_type": "code",
      "metadata": {
        "id": "x4APH5uqft6h",
        "colab_type": "code",
        "colab": {}
      },
      "source": [
        "from sklearn import datasets\n",
        "from sklearn.model_selection import train_test_split\n",
        "from sklearn.metrics import accuracy_score\n",
        "from collections import Counter"
      ],
      "execution_count": 6,
      "outputs": []
    },
    {
      "cell_type": "code",
      "metadata": {
        "id": "n5D6nMvNfvuF",
        "colab_type": "code",
        "colab": {
          "base_uri": "https://localhost:8080/",
          "height": 51
        },
        "outputId": "a06fc5d5-59ec-42b1-e58b-e151316e576b"
      },
      "source": [
        "dataset = datasets.load_iris()\n",
        "xt, xs, yt, ys = train_test_split(dataset.data, dataset.target, test_size = 0.2, random_state = 7)\n",
        "print(xt.shape)\n",
        "print(xs.shape)"
      ],
      "execution_count": 7,
      "outputs": [
        {
          "output_type": "stream",
          "text": [
            "(120, 4)\n",
            "(30, 4)\n"
          ],
          "name": "stdout"
        }
      ]
    },
    {
      "cell_type": "markdown",
      "metadata": {
        "id": "uHFSWCxGgjUv",
        "colab_type": "text"
      },
      "source": [
        "testing the implementation"
      ]
    },
    {
      "cell_type": "code",
      "metadata": {
        "id": "qvMv-G2MgmBb",
        "colab_type": "code",
        "colab": {
          "base_uri": "https://localhost:8080/",
          "height": 34
        },
        "outputId": "dfaf125f-d974-4397-b36b-792bbfd3133f"
      },
      "source": [
        "y_pred = predict(xt, yt, xs, 2)\n",
        "accuracy_score(ys, y_pred)"
      ],
      "execution_count": 15,
      "outputs": [
        {
          "output_type": "execute_result",
          "data": {
            "text/plain": [
              "0.9"
            ]
          },
          "metadata": {
            "tags": []
          },
          "execution_count": 15
        }
      ]
    },
    {
      "cell_type": "code",
      "metadata": {
        "id": "Tiljtg3yhZXn",
        "colab_type": "code",
        "colab": {
          "base_uri": "https://localhost:8080/",
          "height": 34
        },
        "outputId": "4966da5d-9d10-4bc6-cd4b-64b51a39414c"
      },
      "source": [
        "y_pred = predict(xt, yt, xs, 8)\n",
        "accuracy_score(ys, y_pred)"
      ],
      "execution_count": 16,
      "outputs": [
        {
          "output_type": "execute_result",
          "data": {
            "text/plain": [
              "0.9"
            ]
          },
          "metadata": {
            "tags": []
          },
          "execution_count": 16
        }
      ]
    }
  ]
}